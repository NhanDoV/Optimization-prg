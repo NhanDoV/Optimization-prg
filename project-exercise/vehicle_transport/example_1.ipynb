{
 "cells": [
  {
   "cell_type": "code",
   "execution_count": 1,
   "metadata": {},
   "outputs": [],
   "source": [
    "import numpy as np\n",
    "from warnings import filterwarnings\n",
    "from cvxpy import Variable, Problem, Maximize, Minimize, log, quad_form, power\n",
    "from pulp import LpProblem, LpVariable, LpInteger, LpMaximize, LpMinimize\n",
    "\n",
    "filterwarnings(\"ignore\")"
   ]
  },
  {
   "attachments": {},
   "cell_type": "markdown",
   "metadata": {},
   "source": [
    "$$ F_{obj} = x_1^{0.3} x_2^{0.4} x_3^{03} $$"
   ]
  },
  {
   "cell_type": "code",
   "execution_count": 2,
   "metadata": {},
   "outputs": [
    {
     "name": "stdout",
     "output_type": "stream",
     "text": [
      "Convex optimization\n",
      "Problem does not follow DCP rules. Specifically:\n",
      "The objective is not DCP. Its following subexpressions are not:\n",
      "power(var1, 0.3) @ power(var2, 0.4)\n"
     ]
    },
    {
     "ename": "DCPError",
     "evalue": "Problem does not follow DCP rules. Specifically:\nThe objective is not DCP. Its following subexpressions are not:\npower(var1, 0.3) @ power(var2, 0.4)",
     "output_type": "error",
     "traceback": [
      "\u001b[0;31m---------------------------------------------------------------------------\u001b[0m",
      "\u001b[0;31mDCPError\u001b[0m                                  Traceback (most recent call last)",
      "Cell \u001b[0;32mIn[2], line 11\u001b[0m\n\u001b[1;32m      9\u001b[0m prob \u001b[39m=\u001b[39m Problem(obj_func, constraints)\n\u001b[1;32m     10\u001b[0m \u001b[39mtry\u001b[39;00m: \n\u001b[0;32m---> 11\u001b[0m     prob\u001b[39m.\u001b[39;49msolve()\n\u001b[1;32m     12\u001b[0m     \u001b[39mprint\u001b[39m(\u001b[39mf\u001b[39m\u001b[39m\"\u001b[39m\u001b[39mx1_opt = \u001b[39m\u001b[39m{\u001b[39;00mx1\u001b[39m.\u001b[39mvalue\u001b[39m}\u001b[39;00m\u001b[39m \u001b[39m\u001b[39m\\t\u001b[39;00m\u001b[39m x2_opt = \u001b[39m\u001b[39m{\u001b[39;00mx2\u001b[39m.\u001b[39mvalue\u001b[39m}\u001b[39;00m\u001b[39m \u001b[39m\u001b[39m\\t\u001b[39;00m\u001b[39m x3_opt = \u001b[39m\u001b[39m{\u001b[39;00mx3\u001b[39m.\u001b[39mvalue\u001b[39m}\u001b[39;00m\u001b[39m\"\u001b[39m)\n\u001b[1;32m     13\u001b[0m \u001b[39mexcept\u001b[39;00m \u001b[39mException\u001b[39;00m \u001b[39mas\u001b[39;00m e:\n",
      "File \u001b[0;32m~/.python/current/lib/python3.10/site-packages/cvxpy/problems/problem.py:493\u001b[0m, in \u001b[0;36mProblem.solve\u001b[0;34m(self, *args, **kwargs)\u001b[0m\n\u001b[1;32m    491\u001b[0m \u001b[39melse\u001b[39;00m:\n\u001b[1;32m    492\u001b[0m     solve_func \u001b[39m=\u001b[39m Problem\u001b[39m.\u001b[39m_solve\n\u001b[0;32m--> 493\u001b[0m \u001b[39mreturn\u001b[39;00m solve_func(\u001b[39mself\u001b[39;49m, \u001b[39m*\u001b[39;49margs, \u001b[39m*\u001b[39;49m\u001b[39m*\u001b[39;49mkwargs)\n",
      "File \u001b[0;32m~/.python/current/lib/python3.10/site-packages/cvxpy/problems/problem.py:1054\u001b[0m, in \u001b[0;36mProblem._solve\u001b[0;34m(self, solver, warm_start, verbose, gp, qcp, requires_grad, enforce_dpp, ignore_dpp, canon_backend, **kwargs)\u001b[0m\n\u001b[1;32m   1051\u001b[0m         \u001b[39mself\u001b[39m\u001b[39m.\u001b[39munpack(chain\u001b[39m.\u001b[39mretrieve(soln))\n\u001b[1;32m   1052\u001b[0m         \u001b[39mreturn\u001b[39;00m \u001b[39mself\u001b[39m\u001b[39m.\u001b[39mvalue\n\u001b[0;32m-> 1054\u001b[0m data, solving_chain, inverse_data \u001b[39m=\u001b[39m \u001b[39mself\u001b[39;49m\u001b[39m.\u001b[39;49mget_problem_data(\n\u001b[1;32m   1055\u001b[0m     solver, gp, enforce_dpp, ignore_dpp, verbose, canon_backend, kwargs\n\u001b[1;32m   1056\u001b[0m )\n\u001b[1;32m   1058\u001b[0m \u001b[39mif\u001b[39;00m verbose:\n\u001b[1;32m   1059\u001b[0m     \u001b[39mprint\u001b[39m(_NUM_SOLVER_STR)\n",
      "File \u001b[0;32m~/.python/current/lib/python3.10/site-packages/cvxpy/problems/problem.py:631\u001b[0m, in \u001b[0;36mProblem.get_problem_data\u001b[0;34m(self, solver, gp, enforce_dpp, ignore_dpp, verbose, canon_backend, solver_opts)\u001b[0m\n\u001b[1;32m    629\u001b[0m \u001b[39mif\u001b[39;00m key \u001b[39m!=\u001b[39m \u001b[39mself\u001b[39m\u001b[39m.\u001b[39m_cache\u001b[39m.\u001b[39mkey:\n\u001b[1;32m    630\u001b[0m     \u001b[39mself\u001b[39m\u001b[39m.\u001b[39m_cache\u001b[39m.\u001b[39minvalidate()\n\u001b[0;32m--> 631\u001b[0m     solving_chain \u001b[39m=\u001b[39m \u001b[39mself\u001b[39;49m\u001b[39m.\u001b[39;49m_construct_chain(\n\u001b[1;32m    632\u001b[0m         solver\u001b[39m=\u001b[39;49msolver, gp\u001b[39m=\u001b[39;49mgp,\n\u001b[1;32m    633\u001b[0m         enforce_dpp\u001b[39m=\u001b[39;49menforce_dpp,\n\u001b[1;32m    634\u001b[0m         ignore_dpp\u001b[39m=\u001b[39;49mignore_dpp,\n\u001b[1;32m    635\u001b[0m         canon_backend\u001b[39m=\u001b[39;49mcanon_backend,\n\u001b[1;32m    636\u001b[0m         solver_opts\u001b[39m=\u001b[39;49msolver_opts)\n\u001b[1;32m    637\u001b[0m     \u001b[39mself\u001b[39m\u001b[39m.\u001b[39m_cache\u001b[39m.\u001b[39mkey \u001b[39m=\u001b[39m key\n\u001b[1;32m    638\u001b[0m     \u001b[39mself\u001b[39m\u001b[39m.\u001b[39m_cache\u001b[39m.\u001b[39msolving_chain \u001b[39m=\u001b[39m solving_chain\n",
      "File \u001b[0;32m~/.python/current/lib/python3.10/site-packages/cvxpy/problems/problem.py:883\u001b[0m, in \u001b[0;36mProblem._construct_chain\u001b[0;34m(self, solver, gp, enforce_dpp, ignore_dpp, canon_backend, solver_opts)\u001b[0m\n\u001b[1;32m    881\u001b[0m candidate_solvers \u001b[39m=\u001b[39m \u001b[39mself\u001b[39m\u001b[39m.\u001b[39m_find_candidate_solvers(solver\u001b[39m=\u001b[39msolver, gp\u001b[39m=\u001b[39mgp)\n\u001b[1;32m    882\u001b[0m \u001b[39mself\u001b[39m\u001b[39m.\u001b[39m_sort_candidate_solvers(candidate_solvers)\n\u001b[0;32m--> 883\u001b[0m \u001b[39mreturn\u001b[39;00m construct_solving_chain(\u001b[39mself\u001b[39;49m, candidate_solvers, gp\u001b[39m=\u001b[39;49mgp,\n\u001b[1;32m    884\u001b[0m                                enforce_dpp\u001b[39m=\u001b[39;49menforce_dpp,\n\u001b[1;32m    885\u001b[0m                                ignore_dpp\u001b[39m=\u001b[39;49mignore_dpp,\n\u001b[1;32m    886\u001b[0m                                canon_backend\u001b[39m=\u001b[39;49mcanon_backend,\n\u001b[1;32m    887\u001b[0m                                solver_opts\u001b[39m=\u001b[39;49msolver_opts)\n",
      "File \u001b[0;32m~/.python/current/lib/python3.10/site-packages/cvxpy/reductions/solvers/solving_chain.py:184\u001b[0m, in \u001b[0;36mconstruct_solving_chain\u001b[0;34m(problem, candidates, gp, enforce_dpp, ignore_dpp, canon_backend, solver_opts)\u001b[0m\n\u001b[1;32m    182\u001b[0m \u001b[39mif\u001b[39;00m \u001b[39mlen\u001b[39m(problem\u001b[39m.\u001b[39mvariables()) \u001b[39m==\u001b[39m \u001b[39m0\u001b[39m:\n\u001b[1;32m    183\u001b[0m     \u001b[39mreturn\u001b[39;00m SolvingChain(reductions\u001b[39m=\u001b[39m[ConstantSolver()])\n\u001b[0;32m--> 184\u001b[0m reductions \u001b[39m=\u001b[39m _reductions_for_problem_class(problem, candidates, gp, solver_opts)\n\u001b[1;32m    186\u001b[0m \u001b[39m# Process DPP status of the problem.\u001b[39;00m\n\u001b[1;32m    187\u001b[0m dpp_context \u001b[39m=\u001b[39m \u001b[39m'\u001b[39m\u001b[39mdcp\u001b[39m\u001b[39m'\u001b[39m \u001b[39mif\u001b[39;00m \u001b[39mnot\u001b[39;00m gp \u001b[39melse\u001b[39;00m \u001b[39m'\u001b[39m\u001b[39mdgp\u001b[39m\u001b[39m'\u001b[39m\n",
      "File \u001b[0;32m~/.python/current/lib/python3.10/site-packages/cvxpy/reductions/solvers/solving_chain.py:102\u001b[0m, in \u001b[0;36m_reductions_for_problem_class\u001b[0;34m(problem, candidates, gp, solver_opts)\u001b[0m\n\u001b[1;32m     99\u001b[0m     \u001b[39melif\u001b[39;00m problem\u001b[39m.\u001b[39mis_dqcp():\n\u001b[1;32m    100\u001b[0m         append \u001b[39m+\u001b[39m\u001b[39m=\u001b[39m (\u001b[39m\"\u001b[39m\u001b[39m\\n\u001b[39;00m\u001b[39mHowever, the problem does follow DQCP rules. \u001b[39m\u001b[39m\"\u001b[39m\n\u001b[1;32m    101\u001b[0m                    \u001b[39m\"\u001b[39m\u001b[39mConsider calling solve() with `qcp=True`.\u001b[39m\u001b[39m\"\u001b[39m)\n\u001b[0;32m--> 102\u001b[0m     \u001b[39mraise\u001b[39;00m DCPError(\n\u001b[1;32m    103\u001b[0m         \u001b[39m\"\u001b[39m\u001b[39mProblem does not follow DCP rules. Specifically:\u001b[39m\u001b[39m\\n\u001b[39;00m\u001b[39m\"\u001b[39m \u001b[39m+\u001b[39m append)\n\u001b[1;32m    104\u001b[0m \u001b[39melif\u001b[39;00m gp \u001b[39mand\u001b[39;00m \u001b[39mnot\u001b[39;00m problem\u001b[39m.\u001b[39mis_dgp():\n\u001b[1;32m    105\u001b[0m     append \u001b[39m=\u001b[39m build_non_disciplined_error_msg(problem, \u001b[39m'\u001b[39m\u001b[39mDGP\u001b[39m\u001b[39m'\u001b[39m)\n",
      "\u001b[0;31mDCPError\u001b[0m: Problem does not follow DCP rules. Specifically:\nThe objective is not DCP. Its following subexpressions are not:\npower(var1, 0.3) @ power(var2, 0.4)"
     ]
    }
   ],
   "source": [
    "x1 = Variable()\n",
    "x2 = Variable()\n",
    "x3 = Variable()\n",
    "\n",
    "constraints = [x1 + x2 == 2, x2 + x3 >= -1, x1 - 2*x3 == 0]\n",
    "obj_func = Maximize(power(x1, 0.3) * power(x2, 0.4) * power(x3, 0.3))\n",
    "\n",
    "print(\"Convex optimization\")\n",
    "prob = Problem(obj_func, constraints)\n",
    "try: \n",
    "    prob.solve()\n",
    "    print(f\"x1_opt = {x1.value} \\t x2_opt = {x2.value} \\t x3_opt = {x3.value}\")\n",
    "except Exception as e:\n",
    "    print(e)\n",
    "    raise"
   ]
  },
  {
   "attachments": {},
   "cell_type": "markdown",
   "metadata": {},
   "source": [
    "Now, transform the $F_{obj}$ into the log-form like this\n",
    "\n",
    "$$ G = 0.3\\log(x_1) + 0.4 \\log(x_2) + 0.3 \\log(x_3)$$"
   ]
  },
  {
   "cell_type": "code",
   "execution_count": 3,
   "metadata": {},
   "outputs": [
    {
     "name": "stdout",
     "output_type": "stream",
     "text": [
      "Convex optimization\n",
      "x1_opt = 1.200000000777006 \t x2_opt = 0.7999999984470795 \t x3_opt = 0.6000000003891247\n"
     ]
    }
   ],
   "source": [
    "obj_func = Maximize(0.3*log(x1) + 0.4*log(x2) + 0.3*log(x3))\n",
    "\n",
    "print(\"Convex optimization\")\n",
    "prob = Problem(obj_func, constraints)\n",
    "try: \n",
    "    prob.solve()\n",
    "    print(f\"x1_opt = {x1.value} \\t x2_opt = {x2.value} \\t x3_opt = {x3.value}\")\n",
    "except Exception as e:\n",
    "    print(e)\n",
    "    raise"
   ]
  }
 ],
 "metadata": {
  "kernelspec": {
   "display_name": "Python 3",
   "language": "python",
   "name": "python3"
  },
  "language_info": {
   "codemirror_mode": {
    "name": "ipython",
    "version": 3
   },
   "file_extension": ".py",
   "mimetype": "text/x-python",
   "name": "python",
   "nbconvert_exporter": "python",
   "pygments_lexer": "ipython3",
   "version": "3.10.8"
  },
  "orig_nbformat": 4
 },
 "nbformat": 4,
 "nbformat_minor": 2
}
