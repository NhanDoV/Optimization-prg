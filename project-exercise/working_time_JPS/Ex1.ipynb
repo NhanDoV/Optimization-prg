{
 "cells": [
  {
   "cell_type": "code",
   "execution_count": 10,
   "metadata": {},
   "outputs": [],
   "source": [
    "import numpy as np\n",
    "from warnings import filterwarnings\n",
    "from cvxpy import Variable, Problem, Maximize, Minimize, log\n",
    "from pulp import LpProblem, LpVariable, LpInteger, LpMaximize, LpMinimize"
   ]
  },
  {
   "attachments": {},
   "cell_type": "markdown",
   "metadata": {},
   "source": [
    "# 1. Using `cvxpy`\n",
    "Here, we take an example of constraints\n",
    "\n",
    "$$ Ax = b $$\n",
    "\n",
    "\n",
    "### 1.1. Convex optimization (pointwise representation)"
   ]
  },
  {
   "cell_type": "code",
   "execution_count": 7,
   "metadata": {},
   "outputs": [
    {
     "name": "stdout",
     "output_type": "stream",
     "text": [
      "x1_opt = 4.000000000000001 \t x2_opt = -2.000000000000001 \t x3_opt = 2.0000000000000004\n"
     ]
    }
   ],
   "source": [
    "x1 = Variable()\n",
    "x2 = Variable()\n",
    "x3 = Variable()\n",
    "constraints = [x1 + x2 == 2, x2 + x3 >= -1, x1 - 2*x3 == 0]\n",
    "obj_funcs = Minimize((x1 + x2 - x3)**2)\n",
    "prob = Problem(obj_funcs, constraints)\n",
    "prob.solve()\n",
    "print(f\"x1_opt = {x1.value} \\t x2_opt = {x2.value} \\t x3_opt = {x3.value}\")"
   ]
  },
  {
   "attachments": {},
   "cell_type": "markdown",
   "metadata": {},
   "source": [
    "### 1.2. Concave optimization"
   ]
  },
  {
   "cell_type": "code",
   "execution_count": 11,
   "metadata": {},
   "outputs": [
    {
     "name": "stdout",
     "output_type": "stream",
     "text": [
      "x1_opt = 5.999999713449373 \t x2_opt = -3.9999997332886355 \t x3_opt = 2.999999856727714\n"
     ]
    }
   ],
   "source": [
    "x1 = Variable()\n",
    "x2 = Variable()\n",
    "x3 = Variable()\n",
    "constraints = [x1 + x2 == 2, x2 + x3 >= -1, x1 - 2*x3 == 0]\n",
    "obj_funcs = Maximize(log(x1 + x2 + x3 + 1))\n",
    "prob = Problem(obj_funcs, constraints)\n",
    "prob.solve()\n",
    "print(f\"x1_opt = {x1.value} \\t x2_opt = {x2.value} \\t x3_opt = {x3.value}\")"
   ]
  },
  {
   "attachments": {},
   "cell_type": "markdown",
   "metadata": {},
   "source": [
    "### 1.3. Vector of function"
   ]
  },
  {
   "cell_type": "code",
   "execution_count": null,
   "metadata": {},
   "outputs": [],
   "source": []
  }
 ],
 "metadata": {
  "kernelspec": {
   "display_name": "Python 3",
   "language": "python",
   "name": "python3"
  },
  "language_info": {
   "codemirror_mode": {
    "name": "ipython",
    "version": 3
   },
   "file_extension": ".py",
   "mimetype": "text/x-python",
   "name": "python",
   "nbconvert_exporter": "python",
   "pygments_lexer": "ipython3",
   "version": "3.10.8"
  },
  "orig_nbformat": 4
 },
 "nbformat": 4,
 "nbformat_minor": 2
}
