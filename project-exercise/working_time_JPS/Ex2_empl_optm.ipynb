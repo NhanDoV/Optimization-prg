{
 "cells": [
  {
   "cell_type": "code",
   "execution_count": 2,
   "metadata": {},
   "outputs": [],
   "source": [
    "import numpy as np\n",
    "from warnings import filterwarnings\n",
    "from cvxpy import Variable, Problem, Maximize, Minimize, log, quad_form, power, abs\n",
    "from pulp import LpProblem, LpVariable, LpInteger, LpMaximize, LpMinimize\n",
    "\n",
    "filterwarnings(\"ignore\")"
   ]
  },
  {
   "attachments": {},
   "cell_type": "markdown",
   "metadata": {},
   "source": [
    "[Link](https://web.stanford.edu/class/ee364a/lectures/examples.pdf)"
   ]
  },
  {
   "cell_type": "code",
   "execution_count": 3,
   "metadata": {},
   "outputs": [
    {
     "name": "stdout",
     "output_type": "stream",
     "text": [
      "x1_opt = 3.999999994820962 \t x2_opt = -1.9999999973361426 \t x3_opt = 1.999999997408648\n"
     ]
    }
   ],
   "source": [
    "x1 = Variable()\n",
    "x2 = Variable()\n",
    "x3 = Variable()\n",
    "\n",
    "constraints = [x1 + x2 == 2, x2 + x3 >= -1, x1 - 2*x3 == 0]\n",
    "obj_func = Minimize(-0.3*log(x1) + 5*abs(x2 + x3))\n",
    "\n",
    "prob = Problem(obj_func, constraints)\n",
    "try: \n",
    "    prob.solve()\n",
    "    print(f\"x1_opt = {x1.value} \\t x2_opt = {x2.value} \\t x3_opt = {x3.value}\")\n",
    "except Exception as e:\n",
    "    print(e)\n",
    "    raise"
   ]
  }
 ],
 "metadata": {
  "kernelspec": {
   "display_name": "Python 3",
   "language": "python",
   "name": "python3"
  },
  "language_info": {
   "codemirror_mode": {
    "name": "ipython",
    "version": 3
   },
   "file_extension": ".py",
   "mimetype": "text/x-python",
   "name": "python",
   "nbconvert_exporter": "python",
   "pygments_lexer": "ipython3",
   "version": "3.10.8"
  },
  "orig_nbformat": 4
 },
 "nbformat": 4,
 "nbformat_minor": 2
}
