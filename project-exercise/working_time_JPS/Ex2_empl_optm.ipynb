{
 "cells": [
  {
   "cell_type": "code",
   "execution_count": 18,
   "metadata": {},
   "outputs": [],
   "source": [
    "import numpy as np\n",
    "from warnings import filterwarnings\n",
    "from cvxpy import Variable, Problem, Maximize, Minimize, log, quad_form, power, abs, exp\n",
    "from pulp import LpProblem, LpVariable, LpInteger, LpMaximize, LpMinimize\n",
    "\n",
    "filterwarnings(\"ignore\")"
   ]
  },
  {
   "attachments": {},
   "cell_type": "markdown",
   "metadata": {},
   "source": [
    "[Link](https://web.stanford.edu/class/ee364a/lectures/examples.pdf)\n",
    "\n",
    "Suppose that we have 3 engines $x_1, x_2, x_3$ in a machine, \n",
    "\n",
    "Then, this equivalent to we need to optimize / minimize this `objective function`\n",
    "\n",
    "$$ F = x_1^{-0.3} e^{5|x_2 + x_3|} $$\n",
    "\n",
    "or\n",
    "\n",
    "$$ \\log F = -0.3 x_1 + 5|x_2 + x_3|$$"
   ]
  },
  {
   "cell_type": "code",
   "execution_count": 12,
   "metadata": {},
   "outputs": [
    {
     "name": "stdout",
     "output_type": "stream",
     "text": [
      "x1_opt = 5.999999997774834 \t x2_opt = -2.9999999988723745 \t x3_opt = 2.9999999988896238\n"
     ]
    }
   ],
   "source": [
    "x1 = Variable()\n",
    "x2 = Variable()\n",
    "x3 = Variable()\n",
    "\n",
    "constraints = [x1 + x2 == 3, x2 + x3 >= -1, x1 - 2*x3 == 0]\n",
    "obj_func = Minimize(-0.3*log(x1) + 5*abs(x2 + x3))\n",
    "\n",
    "prob = Problem(obj_func, constraints)\n",
    "try: \n",
    "    prob.solve()\n",
    "    print(f\"x1_opt = {x1.value} \\t x2_opt = {x2.value} \\t x3_opt = {x3.value}\")\n",
    "except Exception as e:\n",
    "    print(e)\n",
    "    raise"
   ]
  },
  {
   "cell_type": "code",
   "execution_count": 14,
   "metadata": {},
   "outputs": [
    {
     "name": "stdout",
     "output_type": "stream",
     "text": [
      "x1_opt = 0.0 \t x2_opt = 0.0 \t x3_opt = 1.0873030094027142e-35\n"
     ]
    }
   ],
   "source": [
    "x1 = Variable()\n",
    "x2 = Variable()\n",
    "x3 = Variable()\n",
    "\n",
    "obj_func = Minimize( x1**2 + x2**2 + abs(x3) )\n",
    "\n",
    "prob = Problem(obj_func, constraints)\n",
    "try: \n",
    "    prob.solve()\n",
    "    print(f\"x1_opt = {x1.value} \\t x2_opt = {x2.value} \\t x3_opt = {x3.value}\")\n",
    "except Exception as e:\n",
    "    print(e)\n",
    "    raise"
   ]
  },
  {
   "attachments": {},
   "cell_type": "markdown",
   "metadata": {},
   "source": [
    "### P3. Employee-working-time optimization\n",
    "\n",
    "Suppose that in a team project have 4 members: John, David, Emma and Sahra; working independently\n",
    "- we have only one member (key-member, supposed John) can be worked at least 5 hours a day, and the each of others must work in about (6, 8) hours a day.\n",
    "- The efficient (total mass of jobs until the current considered time) of the key-member is according to a exponential ($e^x$) while the other follow $2^x$ (x = number of working hours) and We need to maximize the efficient of this team\n",
    "- The deadline of the project is supposed to finish after 2 month (from 01-01-2023 to 02-28-2023) and they wont be working on Saturday & Sunday\n",
    "- Based on the historical information, David & Sahra can not be away 3 days a month and Emma can not be away 2 consecutive days a month; while John can not be away!\n",
    "\n",
    "----------------\n",
    "\n",
    "#### Modeling\n",
    "\n",
    "- Denote the number of working days of 4 members is $t_1, t_2, t_3, t_4$ respectively [`John`, `David`, `Emma` and `Sahra`], based on the 2 last constraints, we obtain the number of working days is 31+28 - 8*2 = 43 days and \n",
    "\n",
    "$$ \\left \\lbrace \\begin{array}{l} t_1 = 43 \\\\ 37 \\leq t_2, t_4 \\leq 43 \\\\ 39 \\leq t_3 \\leq 43 \\end{array} \\right. $$\n",
    "\n",
    "- Next, according to the 2 first constraints; we again denote $h_1,h_2,h_3,h_4$ stands for the number of hours a day, we have\n",
    "\n",
    "$$ \\left \\lbrace \\begin{array}{l} 5 \\leq h_1 \\leq 8 \\\\ 6 \\leq h_2, h_3, h_4 \\leq 8 \\end{array} \\right. $$\n",
    "\n",
    "where the objective function is\n",
    "\n",
    "$$ e^{t_1 h_1} + 2^{t_2 h_2} + 2^{t_3 h_3} + 2^{t_4 h_4} $$"
   ]
  },
  {
   "cell_type": "code",
   "execution_count": 41,
   "metadata": {},
   "outputs": [
    {
     "name": "stdout",
     "output_type": "stream",
     "text": [
      "t1_opt = 43.0 \t t2_opt = 37.000000020135204 \t t3_opt = 39.00000001301983 \t t4_opt = 37.000000020135204 \t h1 5.000000009592799\n"
     ]
    }
   ],
   "source": [
    "t1 = Variable()\n",
    "t2 = Variable()\n",
    "t3 = Variable()\n",
    "t4 = Variable()\n",
    "h1 = Variable()\n",
    "h2 = Variable()\n",
    "h3 = Variable()\n",
    "h4 = Variable()\n",
    "\n",
    "constraints = [t1==43, t2>=37, t2<=43, t4>=37, t4<=43, t3>=39, t3<=43, h1>=5, h1<=8, h2>=6, h2<=8, h3>=6, h3<=8, h4>=6, h4<=8]\n",
    "# (exp(t1*h1) + power(t2*h2, 2) + power(t3*h3, 2) + power(t4*h4, 2))\n",
    "obj_func = Minimize( (h1+t1 + t2 + t3 + t4) )\n",
    "\n",
    "prob = Problem(obj_func, constraints)\n",
    "try: \n",
    "    prob.solve()\n",
    "    print(f\"t1_opt = {t1.value} \\t t2_opt = {t2.value} \\t t3_opt = {t3.value} \\t t4_opt = {t4.value} \\t h1 {h1.value}\")\n",
    "except Exception as e:\n",
    "    print(e)\n",
    "    raise"
   ]
  },
  {
   "cell_type": "code",
   "execution_count": 16,
   "metadata": {},
   "outputs": [
    {
     "data": {
      "text/plain": [
       "43"
      ]
     },
     "execution_count": 16,
     "metadata": {},
     "output_type": "execute_result"
    }
   ],
   "source": [
    "31+28-16"
   ]
  },
  {
   "cell_type": "code",
   "execution_count": 15,
   "metadata": {},
   "outputs": [
    {
     "data": {
      "text/plain": [
       "(22026.465794806718, 1024)"
      ]
     },
     "execution_count": 15,
     "metadata": {},
     "output_type": "execute_result"
    }
   ],
   "source": [
    "t = 10\n",
    "np.exp(10), 2**10"
   ]
  }
 ],
 "metadata": {
  "kernelspec": {
   "display_name": "Python 3",
   "language": "python",
   "name": "python3"
  },
  "language_info": {
   "codemirror_mode": {
    "name": "ipython",
    "version": 3
   },
   "file_extension": ".py",
   "mimetype": "text/x-python",
   "name": "python",
   "nbconvert_exporter": "python",
   "pygments_lexer": "ipython3",
   "version": "3.10.8"
  },
  "orig_nbformat": 4
 },
 "nbformat": 4,
 "nbformat_minor": 2
}
