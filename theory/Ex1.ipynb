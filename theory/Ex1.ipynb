{
 "cells": [
  {
   "attachments": {},
   "cell_type": "markdown",
   "metadata": {},
   "source": [
    "# Import libraries"
   ]
  },
  {
   "cell_type": "code",
   "execution_count": 1,
   "metadata": {},
   "outputs": [],
   "source": [
    "import numpy as np\n",
    "from warnings import filterwarnings\n",
    "from cvxpy import Variable, Problem, Maximize, Minimize, log, quad_form\n",
    "from pulp import LpProblem, LpVariable, LpInteger, LpMaximize, LpMinimize\n",
    "\n",
    "filterwarnings(\"ignore\")"
   ]
  },
  {
   "attachments": {},
   "cell_type": "markdown",
   "metadata": {},
   "source": [
    "# 1. Example of convex-concave optimization using `cvxpy`\n",
    "Before going to the section of `pulp`, we will focus on `cvxpy` and how to establish an optimization-problem with this library!\n",
    "\n",
    "Also, we have 3 important features to determine : `input_variable`, `objective function` and `constraints`\n",
    "### 1.1. Define/assign the `input variables`\n",
    "In this section, we will only consider the optimization problem $(P)$ on $\\mathbb{R}^3$, where\n",
    "$$ x = \\left( x_1, x_2, x_3 \\right) $$"
   ]
  },
  {
   "cell_type": "code",
   "execution_count": 2,
   "metadata": {},
   "outputs": [],
   "source": [
    "x1 = Variable()\n",
    "x2 = Variable()\n",
    "x3 = Variable()"
   ]
  },
  {
   "attachments": {},
   "cell_type": "markdown",
   "metadata": {},
   "source": [
    "### 1.2. Define the `objective function`\n",
    "Here we use 2 type `convex` and `concave` functions"
   ]
  },
  {
   "cell_type": "code",
   "execution_count": 3,
   "metadata": {},
   "outputs": [],
   "source": [
    "obj_func_1 = Minimize((x1 + x2 - x3)**2)\n",
    "obj_func_2 = Maximize(log(x1 + x2 + x3 + 1))"
   ]
  },
  {
   "attachments": {},
   "cell_type": "markdown",
   "metadata": {},
   "source": [
    "### 1.3. Define the contrains\n",
    "\n",
    "$$ \\left\\lbrace \\begin{array}{clc} x_1 + x_2 &=& 2 \\\\ x_2 + x_3 & \\geq & - 1 \\\\ x_1 - 2x_3 &=& 0 \\end{array} \\right. $$"
   ]
  },
  {
   "cell_type": "code",
   "execution_count": 4,
   "metadata": {},
   "outputs": [],
   "source": [
    "constraints = [x1 + x2 == 2, x2 + x3 >= -1, x1 - 2*x3 == 0]"
   ]
  },
  {
   "cell_type": "code",
   "execution_count": 5,
   "metadata": {},
   "outputs": [
    {
     "name": "stdout",
     "output_type": "stream",
     "text": [
      "Convex optimization\n",
      "x1_opt = 4.000000000000001 \t x2_opt = -2.000000000000001 \t x3_opt = 2.0000000000000004\n"
     ]
    }
   ],
   "source": [
    "print(\"Convex optimization\")\n",
    "prob = Problem(obj_func_1, constraints)\n",
    "prob.solve()\n",
    "print(f\"x1_opt = {x1.value} \\t x2_opt = {x2.value} \\t x3_opt = {x3.value}\")"
   ]
  },
  {
   "cell_type": "code",
   "execution_count": 6,
   "metadata": {},
   "outputs": [
    {
     "name": "stdout",
     "output_type": "stream",
     "text": [
      "Concave optimization\n",
      "x1_opt = 5.999999713449373 \t x2_opt = -3.9999997332886355 \t x3_opt = 2.999999856727714\n"
     ]
    }
   ],
   "source": [
    "print(\"Concave optimization\")\n",
    "prob = Problem(obj_func_2, constraints)\n",
    "prob.solve()\n",
    "print(f\"x1_opt = {x1.value} \\t x2_opt = {x2.value} \\t x3_opt = {x3.value}\")"
   ]
  },
  {
   "attachments": {},
   "cell_type": "markdown",
   "metadata": {},
   "source": [
    "### 1.4. Wrapping up all together with the vector-form\n",
    "\n",
    "- For example, if $x = \\left( x_1,x_2,x_3 \\right)^T$ then the first objective-function becomes\n",
    "\n",
    "$$ F(x) = (x_1 + x_2 - x_3)^2 = x^T A x $$\n",
    "\n",
    "where \n",
    "$$ A = a^Ta = \\left( \\begin{array}{ccc} 1 & 1 & -1 \\\\ 1 & 1 & -1 \\\\ -1 & -1 & 1 \\end{array} \\right)$$\n",
    "and \n",
    "$$ a=(1,1,-1) $$\n",
    "\n",
    "- Likewise, we have 3 distinct contraints here, \n",
    "$$ c_1 x = 2 \\qquad c_2 x \\geq -1 \\qquad c_3 x = 0 $$\n",
    "where\n",
    "$$ c_1 = (1,1,0) \\qquad c_2 = (0,1,1) \\qquad c_3 = (1,0,-2) $$"
   ]
  },
  {
   "cell_type": "code",
   "execution_count": 7,
   "metadata": {},
   "outputs": [
    {
     "name": "stdout",
     "output_type": "stream",
     "text": [
      "Final result\n"
     ]
    },
    {
     "data": {
      "text/plain": [
       "array([ 4., -2.,  2.])"
      ]
     },
     "execution_count": 7,
     "metadata": {},
     "output_type": "execute_result"
    }
   ],
   "source": [
    "a = np.array([[1,1,-1]])\n",
    "c1 = np.array([1,1,0])\n",
    "c2 = np.array([0,1,1])\n",
    "c3 = np.array([1,0,-2])\n",
    "x = Variable(3)\n",
    "vec_cons = [c1@x == 2, c2@x >= -1, c3@x == 0]\n",
    "Sigma = a.T.dot(a) # equivalent to a.T*a\n",
    "vec_objf_1 = Minimize(quad_form(x, Sigma)) # equivalent to x.T@(a.T*a)@x\n",
    "print(\"Final result\")\n",
    "prob = Problem(vec_objf_1, vec_cons)\n",
    "prob.solve()\n",
    "x.value"
   ]
  },
  {
   "attachments": {},
   "cell_type": "markdown",
   "metadata": {},
   "source": [
    "- Now, how to do the samething for the other problem, the objective function in this case will become\n",
    "\n",
    "$$ G(x) = \\log(x_1 + x_2 + x_3 + 1) = \\log (bx + 1) $$\n",
    "\n",
    "where $b = (1,1,1)$"
   ]
  },
  {
   "cell_type": "code",
   "execution_count": 8,
   "metadata": {},
   "outputs": [
    {
     "name": "stdout",
     "output_type": "stream",
     "text": [
      "Final result\n"
     ]
    },
    {
     "data": {
      "text/plain": [
       "array([ 5.99999971, -3.99999973,  2.99999986])"
      ]
     },
     "execution_count": 8,
     "metadata": {},
     "output_type": "execute_result"
    }
   ],
   "source": [
    "b = np.array([1,1,1])\n",
    "vec_objf_2 = Maximize(log(b@x + 1))\n",
    "print(\"Final result\")\n",
    "prob = Problem(vec_objf_2, vec_cons)\n",
    "prob.solve()\n",
    "x.value"
   ]
  },
  {
   "attachments": {},
   "cell_type": "markdown",
   "metadata": {},
   "source": [
    "# 2. Using `pulp`"
   ]
  },
  {
   "cell_type": "code",
   "execution_count": 9,
   "metadata": {},
   "outputs": [],
   "source": [
    "x1 = LpVariable(\"x1\", 0, None, LpInteger)\n",
    "x2 = LpVariable(\"x2\", 0, None, LpInteger)\n",
    "x3 = LpVariable(\"x3\", 0, None, LpInteger)\n",
    "\n",
    "prbl_1 = LpProblem(\"convex_opt\", LpMaximize)"
   ]
  },
  {
   "cell_type": "code",
   "execution_count": 10,
   "metadata": {},
   "outputs": [],
   "source": [
    "# Create 3 variables \n",
    "x1=LpVariable(\"x1\",0,None,LpInteger)\n",
    "x2=LpVariable(\"x2\",0,None,LpInteger)\n",
    "x3=LpVariable(\"x3\",0,None,LpInteger)"
   ]
  },
  {
   "cell_type": "code",
   "execution_count": 11,
   "metadata": {},
   "outputs": [
    {
     "ename": "TypeError",
     "evalue": "Non-constant expressions cannot be multiplied",
     "output_type": "error",
     "traceback": [
      "\u001b[0;31m---------------------------------------------------------------------------\u001b[0m",
      "\u001b[0;31mTypeError\u001b[0m                                 Traceback (most recent call last)",
      "Cell \u001b[0;32mIn[11], line 4\u001b[0m\n\u001b[1;32m      1\u001b[0m model \u001b[39m=\u001b[39m LpProblem(\u001b[39m\"\u001b[39m\u001b[39mconvex_opt\u001b[39m\u001b[39m\"\u001b[39m, LpMaximize)\n\u001b[1;32m      3\u001b[0m \u001b[39m# Create maximize objective function\u001b[39;00m\n\u001b[0;32m----> 4\u001b[0m model \u001b[39m+\u001b[39m\u001b[39m=\u001b[39m (x1 \u001b[39m+\u001b[39;49m x2 \u001b[39m-\u001b[39;49m x3)\u001b[39m*\u001b[39;49m(x1 \u001b[39m+\u001b[39;49m x2 \u001b[39m-\u001b[39;49m x3)\n\u001b[1;32m      6\u001b[0m \u001b[39m# Create three constraints\u001b[39;00m\n\u001b[1;32m      7\u001b[0m model \u001b[39m+\u001b[39m\u001b[39m=\u001b[39m x1\u001b[39m+\u001b[39mx2\u001b[39m==\u001b[39m\u001b[39m2\u001b[39m\n",
      "File \u001b[0;32m~/.python/current/lib/python3.10/site-packages/pulp/pulp.py:957\u001b[0m, in \u001b[0;36mLpAffineExpression.__mul__\u001b[0;34m(self, other)\u001b[0m\n\u001b[1;32m    955\u001b[0m \u001b[39mif\u001b[39;00m \u001b[39mlen\u001b[39m(other):\n\u001b[1;32m    956\u001b[0m     \u001b[39mif\u001b[39;00m \u001b[39mlen\u001b[39m(\u001b[39mself\u001b[39m):\n\u001b[0;32m--> 957\u001b[0m         \u001b[39mraise\u001b[39;00m \u001b[39mTypeError\u001b[39;00m(\u001b[39m\"\u001b[39m\u001b[39mNon-constant expressions cannot be multiplied\u001b[39m\u001b[39m\"\u001b[39m)\n\u001b[1;32m    958\u001b[0m     \u001b[39melse\u001b[39;00m:\n\u001b[1;32m    959\u001b[0m         c \u001b[39m=\u001b[39m \u001b[39mself\u001b[39m\u001b[39m.\u001b[39mconstant\n",
      "\u001b[0;31mTypeError\u001b[0m: Non-constant expressions cannot be multiplied"
     ]
    }
   ],
   "source": [
    "model = LpProblem(\"convex_opt\", LpMaximize)\n",
    "\n",
    "# Create maximize objective function\n",
    "model += (x1 + x2 - x3)*(x1 + x2 - x3)\n",
    "\n",
    "# Create three constraints\n",
    "model += x1+x2==2\n",
    "model += x2 + x3 >= -1\n",
    "model += x1 - 2*x3 == 0\n",
    "\n",
    "# The problem is solved using PuLP's choice of Solver\n",
    "model.solve()\n",
    "\n",
    "for v in model.variables():\n",
    "    print(v.name, \"=\", v.varValue)"
   ]
  },
  {
   "attachments": {},
   "cell_type": "markdown",
   "metadata": {},
   "source": [
    "=> So noting that when using `pulp`, we can not solve the non-linear objective function. This only good when we use it in the linear-optimization problem. "
   ]
  },
  {
   "cell_type": "code",
   "execution_count": 14,
   "metadata": {},
   "outputs": [
    {
     "name": "stdout",
     "output_type": "stream",
     "text": [
      "Welcome to the CBC MILP Solver \n",
      "Version: 2.10.3 \n",
      "Build Date: Dec 15 2019 \n",
      "\n",
      "command line - /home/codespace/.python/current/lib/python3.10/site-packages/pulp/solverdir/cbc/linux/64/cbc /tmp/7b387ed37cd34d06ad79bf88914e1c09-pulp.mps max timeMode elapsed branch printingOptions all solution /tmp/7b387ed37cd34d06ad79bf88914e1c09-pulp.sol (default strategy 1)\n",
      "At line 2 NAME          MODEL\n",
      "At line 3 ROWS\n",
      "At line 9 COLUMNS\n",
      "At line 29 RHS\n",
      "At line 34 BOUNDS\n",
      "At line 38 ENDATA\n",
      "Problem MODEL has 4 rows, 3 columns and 10 elements\n",
      "Coin0008I MODEL read with 0 errors\n",
      "Option for timeMode changed from cpu to elapsed\n",
      "Continuous objective value is 550 - 0.00 seconds\n",
      "Cgl0004I processed model has 2 rows, 3 columns (3 integer (0 of which binary)) and 6 elements\n",
      "Cutoff increment increased from 1e-05 to 4.9999\n",
      "Cbc0012I Integer solution of -550 found by DiveCoefficient after 0 iterations and 0 nodes (0.00 seconds)\n",
      "Cbc0001I Search completed - best objective -550, took 0 iterations and 0 nodes (0.00 seconds)\n",
      "Cbc0035I Maximum depth 0, 0 variables fixed on reduced cost\n",
      "Cuts at root node changed objective from -550 to -550\n",
      "Probing was tried 0 times and created 0 cuts of which 0 were active after adding rounds of cuts (0.000 seconds)\n",
      "Gomory was tried 0 times and created 0 cuts of which 0 were active after adding rounds of cuts (0.000 seconds)\n",
      "Knapsack was tried 0 times and created 0 cuts of which 0 were active after adding rounds of cuts (0.000 seconds)\n",
      "Clique was tried 0 times and created 0 cuts of which 0 were active after adding rounds of cuts (0.000 seconds)\n",
      "MixedIntegerRounding2 was tried 0 times and created 0 cuts of which 0 were active after adding rounds of cuts (0.000 seconds)\n",
      "FlowCover was tried 0 times and created 0 cuts of which 0 were active after adding rounds of cuts (0.000 seconds)\n",
      "TwoMirCuts was tried 0 times and created 0 cuts of which 0 were active after adding rounds of cuts (0.000 seconds)\n",
      "ZeroHalf was tried 0 times and created 0 cuts of which 0 were active after adding rounds of cuts (0.000 seconds)\n",
      "\n",
      "Result - Optimal solution found\n",
      "\n",
      "Objective value:                550.00000000\n",
      "Enumerated nodes:               0\n",
      "Total iterations:               0\n",
      "Time (CPU seconds):             0.00\n",
      "Time (Wallclock seconds):       0.00\n",
      "\n",
      "Option for printingOptions changed from normal to all\n",
      "Total time (CPU seconds):       0.00   (Wallclock seconds):       0.00\n",
      "\n"
     ]
    },
    {
     "data": {
      "text/plain": [
       "1"
      ]
     },
     "execution_count": 14,
     "metadata": {},
     "output_type": "execute_result"
    }
   ],
   "source": [
    "model2 = LpProblem(\"linear_opt\", LpMaximize)\n",
    "\n",
    "# Create 3 variables tables, chairs, and bookcases \n",
    "x1 = LpVariable(\"tables\", 0, None, LpInteger)\n",
    "x2 = LpVariable(\"chairs\", 0, None, LpInteger)\n",
    "x3 = LpVariable(\"bookcases\", 0, None, LpInteger)\n",
    "\n",
    "# Create maximize objective function\n",
    "model2 += 40 * x1 + 30 * x2 + 45 * x3\n",
    "\n",
    "# Create three constraints\n",
    "model2 += 2 * x1 + 1 * x2 + 2.5 * x3 <= 60, \"Labour\"\n",
    "model2 += 0.8 * x1 + 0.6 * x2 + 1.0 * x3 <= 16, \"Machine\"\n",
    "model2 += 30 * x1 + 20 * x2 + 30 * x3 <= 400, \"wood\"\n",
    "model2 += x1 >= 10, \"tables\"\n",
    "\n",
    "# The problem is solved using PuLP's choice of Solver\n",
    "model2.solve()"
   ]
  },
  {
   "cell_type": "code",
   "execution_count": 15,
   "metadata": {},
   "outputs": [
    {
     "name": "stdout",
     "output_type": "stream",
     "text": [
      "bookcases = 0.0\n",
      "chairs = 5.0\n",
      "tables = 10.0\n"
     ]
    }
   ],
   "source": [
    "for v in model2.variables():\n",
    "    print(v.name, \"=\", v.varValue)"
   ]
  }
 ],
 "metadata": {
  "kernelspec": {
   "display_name": "Python 3",
   "language": "python",
   "name": "python3"
  },
  "language_info": {
   "codemirror_mode": {
    "name": "ipython",
    "version": 3
   },
   "file_extension": ".py",
   "mimetype": "text/x-python",
   "name": "python",
   "nbconvert_exporter": "python",
   "pygments_lexer": "ipython3",
   "version": "3.10.8"
  },
  "orig_nbformat": 4
 },
 "nbformat": 4,
 "nbformat_minor": 2
}
