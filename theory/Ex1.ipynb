{
 "cells": [
  {
   "attachments": {},
   "cell_type": "markdown",
   "metadata": {},
   "source": [
    "# Import libraries"
   ]
  },
  {
   "cell_type": "code",
   "execution_count": 9,
   "metadata": {},
   "outputs": [],
   "source": [
    "import numpy as np\n",
    "from warnings import filterwarnings\n",
    "from cvxpy import Variable, Problem, Maximize, Minimize, log, quad_form\n",
    "from pulp import LpProblem, LpVariable, LpInteger, LpMaximize, LpMinimize\n",
    "\n",
    "filterwarnings(\"ignore\")"
   ]
  },
  {
   "attachments": {},
   "cell_type": "markdown",
   "metadata": {},
   "source": [
    "# 1. Example of convex-concave optimization using `cvxpy`\n",
    "Before going to the section of `pulp`, we will focus on `cvxpy` and how to establish an optimization-problem with this library!\n",
    "\n",
    "Also, we have 3 important features to determine : `input_variable`, `objective function` and `constraints`\n",
    "### 1.1. Define/assign the `input variables`\n",
    "In this section, we will only consider the optimization problem $(P)$ on $\\mathbb{R}^3$, where\n",
    "$$ x = \\left( x_1, x_2, x_3 \\right) $$"
   ]
  },
  {
   "cell_type": "code",
   "execution_count": 10,
   "metadata": {},
   "outputs": [],
   "source": [
    "x1 = Variable()\n",
    "x2 = Variable()\n",
    "x3 = Variable()"
   ]
  },
  {
   "attachments": {},
   "cell_type": "markdown",
   "metadata": {},
   "source": [
    "### 1.2. Define the `objective function`\n",
    "Here we use 2 type `convex` and `concave` functions"
   ]
  },
  {
   "cell_type": "code",
   "execution_count": 11,
   "metadata": {},
   "outputs": [],
   "source": [
    "obj_func_1 = Minimize((x1 + x2 - x3)**2)\n",
    "obj_func_2 = Maximize(log(x1 + x2 + x3 + 1))"
   ]
  },
  {
   "attachments": {},
   "cell_type": "markdown",
   "metadata": {},
   "source": [
    "### 1.3. Define the contrains\n",
    "\n",
    "$$ \\left\\lbrace \\begin{array}{clc} x_1 + x_2 &=& 2 \\\\ x_2 + x_3 & \\geq & - 1 \\\\ x_1 - 2x_3 &=& 0 \\end{array} \\right. $$"
   ]
  },
  {
   "cell_type": "code",
   "execution_count": 12,
   "metadata": {},
   "outputs": [],
   "source": [
    "constraints = [x1 + x2 == 2, x2 + x3 >= -1, x1 - 2*x3 == 0]"
   ]
  },
  {
   "cell_type": "code",
   "execution_count": 13,
   "metadata": {},
   "outputs": [
    {
     "name": "stdout",
     "output_type": "stream",
     "text": [
      "Convex optimization\n",
      "x1_opt = 4.000000000000001 \t x2_opt = -2.000000000000001 \t x3_opt = 2.0000000000000004\n"
     ]
    }
   ],
   "source": [
    "print(\"Convex optimization\")\n",
    "prob = Problem(obj_func_1, constraints)\n",
    "prob.solve()\n",
    "print(f\"x1_opt = {x1.value} \\t x2_opt = {x2.value} \\t x3_opt = {x3.value}\")"
   ]
  },
  {
   "cell_type": "code",
   "execution_count": 14,
   "metadata": {},
   "outputs": [
    {
     "name": "stdout",
     "output_type": "stream",
     "text": [
      "Concave optimization\n",
      "x1_opt = 5.999999713449373 \t x2_opt = -3.9999997332886355 \t x3_opt = 2.999999856727714\n"
     ]
    }
   ],
   "source": [
    "print(\"Concave optimization\")\n",
    "prob = Problem(obj_func_2, constraints)\n",
    "prob.solve()\n",
    "print(f\"x1_opt = {x1.value} \\t x2_opt = {x2.value} \\t x3_opt = {x3.value}\")"
   ]
  },
  {
   "attachments": {},
   "cell_type": "markdown",
   "metadata": {},
   "source": [
    "### 1.4. Wrapping up all together with the vector-form\n",
    "\n",
    "- For example, if $x = \\left( x_1,x_2,x_3 \\right)$ then the first objective-function becomes\n",
    "\n",
    "$$ F(x) = (x_1 + x_2 - x_3)^2 = x^T A x $$\n",
    "\n",
    "where \n",
    "$$ A = a^Ta = \\left( \\begin{array}{ccc} 1 & 1 & -1 \\\\ 1 & 1 & -1 \\\\ -1 & -1 & 1 \\end{array} \\right)$$\n",
    "and \n",
    "$$ a=(1,1,-1) $$\n",
    "\n",
    "- Likewise, we have 3 distinct contraints here, \n",
    "$$ c_1 x = 2 \\qquad c_2 x \\geq -1 \\qquad c_3 x = 0 $$\n",
    "where\n",
    "$$ c_1 = (1,1,0) \\qquad c_2 = (0,1,1) \\qquad c_3 = (1,0,-2) $$"
   ]
  },
  {
   "cell_type": "code",
   "execution_count": 15,
   "metadata": {},
   "outputs": [
    {
     "name": "stdout",
     "output_type": "stream",
     "text": [
      "Final result\n"
     ]
    },
    {
     "data": {
      "text/plain": [
       "array([ 4., -2.,  2.])"
      ]
     },
     "execution_count": 15,
     "metadata": {},
     "output_type": "execute_result"
    }
   ],
   "source": [
    "a = np.array([[1,1,-1]])\n",
    "c1 = np.array([1,1,0])\n",
    "c2 = np.array([0,1,1])\n",
    "c3 = np.array([1,0,-2])\n",
    "x = Variable(3)\n",
    "vec_cons = [c1@x == 2, c2@x >= -1, c3@x == 0]\n",
    "Sigma = a.T.dot(a) # equivalent to a.T*a\n",
    "vec_objf_1 = Minimize(quad_form(x, Sigma)) # equivalent to x.T@(a.T*a)@x\n",
    "print(\"Final result\")\n",
    "prob = Problem(vec_objf_1, vec_cons)\n",
    "prob.solve()\n",
    "x.value"
   ]
  },
  {
   "attachments": {},
   "cell_type": "markdown",
   "metadata": {},
   "source": [
    "- Now, how to do the samething for the other problem"
   ]
  },
  {
   "cell_type": "code",
   "execution_count": 16,
   "metadata": {},
   "outputs": [
    {
     "name": "stdout",
     "output_type": "stream",
     "text": [
      "Final result\n"
     ]
    },
    {
     "data": {
      "text/plain": [
       "array([ 5.99999971, -3.99999973,  2.99999986])"
      ]
     },
     "execution_count": 16,
     "metadata": {},
     "output_type": "execute_result"
    }
   ],
   "source": [
    "b = np.array([1,1,1])\n",
    "vec_objf_2 = Maximize(log(b@x + 1))\n",
    "print(\"Final result\")\n",
    "prob = Problem(vec_objf_2, vec_cons)\n",
    "prob.solve()\n",
    "x.value"
   ]
  },
  {
   "attachments": {},
   "cell_type": "markdown",
   "metadata": {},
   "source": [
    "# 2. Using `pulp`"
   ]
  },
  {
   "cell_type": "code",
   "execution_count": null,
   "metadata": {},
   "outputs": [],
   "source": []
  },
  {
   "cell_type": "code",
   "execution_count": null,
   "metadata": {},
   "outputs": [],
   "source": []
  }
 ],
 "metadata": {
  "kernelspec": {
   "display_name": "Python 3",
   "language": "python",
   "name": "python3"
  },
  "language_info": {
   "codemirror_mode": {
    "name": "ipython",
    "version": 3
   },
   "file_extension": ".py",
   "mimetype": "text/x-python",
   "name": "python",
   "nbconvert_exporter": "python",
   "pygments_lexer": "ipython3",
   "version": "3.10.8"
  },
  "orig_nbformat": 4
 },
 "nbformat": 4,
 "nbformat_minor": 2
}
